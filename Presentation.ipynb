{
 "cells": [
  {
   "cell_type": "markdown",
   "metadata": {},
   "source": [
    "# Welcome to MrAdvisor!"
   ]
  },
  {
   "cell_type": "markdown",
   "metadata": {},
   "source": [
    "## Presentation"
   ]
  },
  {
   "cell_type": "markdown",
   "metadata": {},
   "source": [
    "A student at Columbia wants to participate in different events. But how to organize a day, given academic requirements and subjective preferences? Mr Advisor is here to help! \n",
    "<br> \n",
    "Given events listed in a .csv file and a particular month, the user can check his/her schedule with the different events displayed. But MrAdvisor has a twist! Since the user could have conflicting events. MrAdvisor will select the events to attend based on differents scores assessed by the user, such as the priority of the event or the difficulty of a course."
   ]
  },
  {
   "cell_type": "markdown",
   "metadata": {},
   "source": [
    "## Initialization"
   ]
  },
  {
   "cell_type": "markdown",
   "metadata": {},
   "source": [
    "Please be sure to download all the files from the repo and store them in the same folder. \n",
    "<br> \n",
    "You can directly use the `.csv` given or modify it or even create your own `.csv`. However, please follow the name of the columns, in the same order and same spelling: \n",
    "<br>\n",
    "- `title`: name of the event\n",
    "<br>\n",
    "- `category`: A (resp. P,C) for an academic (resp. professional, cultural) event\n",
    "<br>\n",
    "- `year`\n",
    "<br>\n",
    "- `month`: 1 for January, 2 for February\n",
    "<br>\n",
    "- `day`\n",
    "<br>\n",
    "- `start`: start hour of the event: 0 for 00:00 AM, 930 for 9:30 AM, 2130 for 9:30 PM. We handle round and half hours\n",
    "<br>\n",
    "- `end`: end hour of the event. Same remark as `start`\n",
    "<br>\n",
    "- `priority`: self-assessment of the priority of the event, on a integral 10-point scale\n",
    "<br>\n",
    "- `difficulty`: self-assessment of the difficulty of an academic event (i.e. a class), on a integral 10-point scale. If the event is not academic, this parameter will be disregarded\n",
    "<br>\n",
    "- `rating`: self-assessment of the quality of an academic event (i.e. a class), on a integral 10-point scale. If the event is not academic, this parameter will be disregarded"
   ]
  },
  {
   "cell_type": "markdown",
   "metadata": {},
   "source": [
    "Then execute the following to initialize the calendar."
   ]
  },
  {
   "cell_type": "code",
   "execution_count": null,
   "metadata": {},
   "outputs": [],
   "source": []
  }
 ],
 "metadata": {
  "kernelspec": {
   "display_name": "Python 3",
   "language": "python",
   "name": "python3"
  },
  "language_info": {
   "codemirror_mode": {
    "name": "ipython",
    "version": 3
   },
   "file_extension": ".py",
   "mimetype": "text/x-python",
   "name": "python",
   "nbconvert_exporter": "python",
   "pygments_lexer": "ipython3",
   "version": "3.6.5"
  }
 },
 "nbformat": 4,
 "nbformat_minor": 2
}
